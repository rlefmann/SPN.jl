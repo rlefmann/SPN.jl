{
 "cells": [
  {
   "cell_type": "markdown",
   "metadata": {},
   "source": [
    "# MNIST"
   ]
  },
  {
   "cell_type": "code",
   "execution_count": 1,
   "metadata": {},
   "outputs": [],
   "source": [
    "using SPN\n",
    "using MNIST\n",
    "using MultivariateStats"
   ]
  },
  {
   "cell_type": "code",
   "execution_count": 2,
   "metadata": {},
   "outputs": [
    {
     "name": "stderr",
     "output_type": "stream",
     "text": [
      "\u001b[1m\u001b[33mWARNING: \u001b[39m\u001b[22m\u001b[33mArray{T}(::Type{T}, m::Int, n::Int) is deprecated, use Array{T}(m, n) instead.\u001b[39m\n",
      "Stacktrace:\n",
      " [1] \u001b[1mdepwarn\u001b[22m\u001b[22m\u001b[1m(\u001b[22m\u001b[22m::String, ::Symbol\u001b[1m)\u001b[22m\u001b[22m at \u001b[1m./deprecated.jl:70\u001b[22m\u001b[22m\n",
      " [2] \u001b[1mArray\u001b[22m\u001b[22m\u001b[1m(\u001b[22m\u001b[22m::Type{Float64}, ::Int64, ::Int64\u001b[1m)\u001b[22m\u001b[22m at \u001b[1m./deprecated.jl:57\u001b[22m\u001b[22m\n",
      " [3] \u001b[1mtraindata\u001b[22m\u001b[22m\u001b[1m(\u001b[22m\u001b[22m\u001b[1m)\u001b[22m\u001b[22m at \u001b[1m/home/lefmann/.julia/v0.6/MNIST/src/MNIST.jl:88\u001b[22m\u001b[22m\n",
      " [4] \u001b[1minclude_string\u001b[22m\u001b[22m\u001b[1m(\u001b[22m\u001b[22m::String, ::String\u001b[1m)\u001b[22m\u001b[22m at \u001b[1m./loading.jl:515\u001b[22m\u001b[22m\n",
      " [5] \u001b[1minclude_string\u001b[22m\u001b[22m\u001b[1m(\u001b[22m\u001b[22m::Module, ::String, ::String\u001b[1m)\u001b[22m\u001b[22m at \u001b[1m/home/lefmann/.julia/v0.6/Compat/src/Compat.jl:71\u001b[22m\u001b[22m\n",
      " [6] \u001b[1mexecute_request\u001b[22m\u001b[22m\u001b[1m(\u001b[22m\u001b[22m::ZMQ.Socket, ::IJulia.Msg\u001b[1m)\u001b[22m\u001b[22m at \u001b[1m/home/lefmann/.julia/v0.6/IJulia/src/execute_request.jl:158\u001b[22m\u001b[22m\n",
      " [7] \u001b[1m(::Compat.#inner#17{Array{Any,1},IJulia.#execute_request,Tuple{ZMQ.Socket,IJulia.Msg}})\u001b[22m\u001b[22m\u001b[1m(\u001b[22m\u001b[22m\u001b[1m)\u001b[22m\u001b[22m at \u001b[1m/home/lefmann/.julia/v0.6/Compat/src/Compat.jl:385\u001b[22m\u001b[22m\n",
      " [8] \u001b[1meventloop\u001b[22m\u001b[22m\u001b[1m(\u001b[22m\u001b[22m::ZMQ.Socket\u001b[1m)\u001b[22m\u001b[22m at \u001b[1m/home/lefmann/.julia/v0.6/IJulia/src/eventloop.jl:8\u001b[22m\u001b[22m\n",
      " [9] \u001b[1m(::IJulia.##14#17)\u001b[22m\u001b[22m\u001b[1m(\u001b[22m\u001b[22m\u001b[1m)\u001b[22m\u001b[22m at \u001b[1m./task.jl:335\u001b[22m\u001b[22m\n",
      "while loading In[2], in expression starting on line 1\n",
      "\u001b[1m\u001b[33mWARNING: \u001b[39m\u001b[22m\u001b[33mArray{T}(::Type{T}, m::Int) is deprecated, use Array{T}(m) instead.\u001b[39m\n",
      "Stacktrace:\n",
      " [1] \u001b[1mdepwarn\u001b[22m\u001b[22m\u001b[1m(\u001b[22m\u001b[22m::String, ::Symbol\u001b[1m)\u001b[22m\u001b[22m at \u001b[1m./deprecated.jl:70\u001b[22m\u001b[22m\n",
      " [2] \u001b[1mArray\u001b[22m\u001b[22m\u001b[1m(\u001b[22m\u001b[22m::Type{Float64}, ::Int64\u001b[1m)\u001b[22m\u001b[22m at \u001b[1m./deprecated.jl:57\u001b[22m\u001b[22m\n",
      " [3] \u001b[1mtraindata\u001b[22m\u001b[22m\u001b[1m(\u001b[22m\u001b[22m\u001b[1m)\u001b[22m\u001b[22m at \u001b[1m/home/lefmann/.julia/v0.6/MNIST/src/MNIST.jl:89\u001b[22m\u001b[22m\n",
      " [4] \u001b[1minclude_string\u001b[22m\u001b[22m\u001b[1m(\u001b[22m\u001b[22m::String, ::String\u001b[1m)\u001b[22m\u001b[22m at \u001b[1m./loading.jl:515\u001b[22m\u001b[22m\n",
      " [5] \u001b[1minclude_string\u001b[22m\u001b[22m\u001b[1m(\u001b[22m\u001b[22m::Module, ::String, ::String\u001b[1m)\u001b[22m\u001b[22m at \u001b[1m/home/lefmann/.julia/v0.6/Compat/src/Compat.jl:71\u001b[22m\u001b[22m\n",
      " [6] \u001b[1mexecute_request\u001b[22m\u001b[22m\u001b[1m(\u001b[22m\u001b[22m::ZMQ.Socket, ::IJulia.Msg\u001b[1m)\u001b[22m\u001b[22m at \u001b[1m/home/lefmann/.julia/v0.6/IJulia/src/execute_request.jl:158\u001b[22m\u001b[22m\n",
      " [7] \u001b[1m(::Compat.#inner#17{Array{Any,1},IJulia.#execute_request,Tuple{ZMQ.Socket,IJulia.Msg}})\u001b[22m\u001b[22m\u001b[1m(\u001b[22m\u001b[22m\u001b[1m)\u001b[22m\u001b[22m at \u001b[1m/home/lefmann/.julia/v0.6/Compat/src/Compat.jl:385\u001b[22m\u001b[22m\n",
      " [8] \u001b[1meventloop\u001b[22m\u001b[22m\u001b[1m(\u001b[22m\u001b[22m::ZMQ.Socket\u001b[1m)\u001b[22m\u001b[22m at \u001b[1m/home/lefmann/.julia/v0.6/IJulia/src/eventloop.jl:8\u001b[22m\u001b[22m\n",
      " [9] \u001b[1m(::IJulia.##14#17)\u001b[22m\u001b[22m\u001b[1m(\u001b[22m\u001b[22m\u001b[1m)\u001b[22m\u001b[22m at \u001b[1m./task.jl:335\u001b[22m\u001b[22m\n",
      "while loading In[2], in expression starting on line 1\n"
     ]
    },
    {
     "data": {
      "text/plain": [
       "([0.0 0.0 … 0.0 0.0; 0.0 0.0 … 0.0 0.0; … ; 0.0 0.0 … 0.0 0.0; 0.0 0.0 … 0.0 0.0], [5.0, 0.0, 4.0, 1.0, 9.0, 2.0, 1.0, 3.0, 1.0, 4.0  …  9.0, 2.0, 9.0, 5.0, 1.0, 8.0, 3.0, 5.0, 6.0, 8.0])"
      ]
     },
     "execution_count": 2,
     "metadata": {},
     "output_type": "execute_result"
    }
   ],
   "source": [
    "x, y = traindata()"
   ]
  },
  {
   "cell_type": "code",
   "execution_count": 3,
   "metadata": {},
   "outputs": [
    {
     "name": "stdout",
     "output_type": "stream",
     "text": [
      "size(x) = (784, 60000)\n",
      "size(y) = (60000,)\n"
     ]
    },
    {
     "data": {
      "text/plain": [
       "(60000,)"
      ]
     },
     "execution_count": 3,
     "metadata": {},
     "output_type": "execute_result"
    }
   ],
   "source": [
    "@show size(x)\n",
    "@show size(y)"
   ]
  },
  {
   "cell_type": "code",
   "execution_count": 4,
   "metadata": {},
   "outputs": [
    {
     "data": {
      "text/plain": [
       "PCA(indim = 784, outdim = 9, principalratio = 0.46458)"
      ]
     },
     "execution_count": 4,
     "metadata": {},
     "output_type": "execute_result"
    }
   ],
   "source": [
    "pcaModel = fit(PCA, x; maxoutdim=9)"
   ]
  },
  {
   "cell_type": "code",
   "execution_count": 5,
   "metadata": {},
   "outputs": [
    {
     "data": {
      "text/plain": [
       "9×60000 Array{Float64,2}:\n",
       "  123.933   1011.72     -51.8496   …  -178.053    130.606    -173.436 \n",
       "  312.674    294.857   -392.173       -160.078      5.59194    24.7188\n",
       "   24.5141  -596.34     188.51         257.613   -513.859    -556.019 \n",
       " -555.758   -460.766    521.011       -714.65     342.704    -120.862 \n",
       "  -27.2967  -827.275   -306.681       -210.315   -521.166    -198.0   \n",
       "  232.476    181.951      1.83535  …   462.463    540.554    -233.026 \n",
       "  233.996    -45.0205  -859.047       -464.535   -107.376    -461.44  \n",
       " -159.799    104.97    -368.592        184.823   -140.729     154.455 \n",
       " -363.515     40.4591  -114.546        -87.5243   -16.4958     87.3036"
      ]
     },
     "execution_count": 5,
     "metadata": {},
     "output_type": "execute_result"
    }
   ],
   "source": [
    "xTransformed = transform(pcaModel, x)"
   ]
  },
  {
   "cell_type": "code",
   "execution_count": 6,
   "metadata": {},
   "outputs": [
    {
     "data": {
      "text/plain": [
       "60000×9 Array{Float64,2}:\n",
       "  123.933    312.674      24.5141  …   233.996   -159.799    -363.515 \n",
       " 1011.72     294.857    -596.34        -45.0205   104.97       40.4591\n",
       "  -51.8496  -392.173     188.51       -859.047   -368.592    -114.546 \n",
       " -799.127    607.197    -273.651      -473.713     67.3217    302.731 \n",
       " -382.755   -730.543     -16.3537      -91.6666   405.555     225.502 \n",
       "  184.469   -221.332    -591.36    …   -31.6223   -98.5792    -47.0293\n",
       " -726.514    156.986     248.191       356.04     156.894    -226.846 \n",
       "  513.345    310.773     104.08       -502.436   -250.842    -494.308 \n",
       " -868.907     81.5472    133.418       124.991    219.185    -229.229 \n",
       " -304.731   -465.597    -692.383      -446.21     -55.3147    -30.7534\n",
       " -146.202    643.426     251.311   …   395.08    -572.065    -106.959 \n",
       " -613.839    243.373    -344.926      -360.696    -47.2552    155.174 \n",
       "  279.92     830.688    1106.71         62.1792  -373.897     454.063 \n",
       "    ⋮                              ⋱                                  \n",
       " -121.755   -383.914    -587.847      -100.721   -252.523     180.897 \n",
       " -288.933    -32.7416   -462.608      -393.661    542.904    -238.094 \n",
       " -302.88    -279.875    -319.17    …  -142.049     87.6235   -107.212 \n",
       "  -75.2281    76.9364   -751.329      -441.157   -118.739    -451.077 \n",
       " -404.229   -140.8      -284.054      -144.303      4.69583  -250.935 \n",
       " -313.233     90.9956   -234.763      -438.036   -288.243     -23.3465\n",
       " -805.385    314.244     -39.7515     -562.948     53.4415    -24.667 \n",
       "  -99.6218   293.476    -135.94    …  -498.555    237.615    -494.898 \n",
       "  152.758    687.9        88.9324     -487.14    -505.334    -668.867 \n",
       " -178.053   -160.078     257.613      -464.535    184.823     -87.5243\n",
       "  130.606      5.59194  -513.859      -107.376   -140.729     -16.4958\n",
       " -173.436     24.7188   -556.019      -461.44     154.455      87.3036"
      ]
     },
     "execution_count": 6,
     "metadata": {},
     "output_type": "execute_result"
    }
   ],
   "source": [
    "# swap rows and columns:\n",
    "x = xTransformed'"
   ]
  },
  {
   "cell_type": "markdown",
   "metadata": {},
   "source": [
    "# Normalize\n",
    "\n",
    "Normalize the dataset such that each variable (column) has mean 0 and variance 1."
   ]
  },
  {
   "cell_type": "code",
   "execution_count": 7,
   "metadata": {},
   "outputs": [
    {
     "name": "stdout",
     "output_type": "stream",
     "text": [
      "mean(x, 1) = [-9.77404e-14 2.99527e-14 -4.75363e-14 -6.20882e-14 -4.02603e-14 2.18279e-14 -9.70128e-16 3.03165e-15 -1.5522e-14]\n",
      "var(x, 1) = [3.32725e5 2.43284e5 2.11507e5 1.84776e5 1.66927e5 147845.0 1.12178e5 98874.4 94696.2]\n"
     ]
    }
   ],
   "source": [
    "@show mean(x,1)\n",
    "@show var(x,1);"
   ]
  },
  {
   "cell_type": "code",
   "execution_count": 8,
   "metadata": {},
   "outputs": [
    {
     "data": {
      "text/plain": [
       "normalizeDataset! (generic function with 1 method)"
      ]
     },
     "execution_count": 8,
     "metadata": {},
     "output_type": "execute_result"
    }
   ],
   "source": [
    "function normalizeDataset!(x::AbstractArray)\n",
    "    x = x .- mean(x,1)\n",
    "    x = x\n",
    "    return x ./ var(x,1)\n",
    "end"
   ]
  },
  {
   "cell_type": "code",
   "execution_count": 9,
   "metadata": {},
   "outputs": [
    {
     "name": "stdout",
     "output_type": "stream",
     "text": [
      "mean(A, 1) = [0.0 0.0 0.0 0.0]\n",
      "var(A, 1) = [1.0 1.0 1.0 1.0]\n"
     ]
    }
   ],
   "source": [
    "A = reshape(1:12, (3,4))\n",
    "A = normalizeDataset!(A)\n",
    "@show mean(A,1)\n",
    "@show var(A,1);"
   ]
  },
  {
   "cell_type": "code",
   "execution_count": 10,
   "metadata": {},
   "outputs": [
    {
     "data": {
      "text/plain": [
       "60000×9 Array{Float64,2}:\n",
       "  0.000372478   0.00128522    0.000115902  …  -0.00161619   -0.00383875 \n",
       "  0.00304071    0.00121199   -0.00281947       0.00106165    0.000427252\n",
       " -0.000155833  -0.001612      0.000891268     -0.00372788   -0.00120962 \n",
       " -0.00240177    0.00249584   -0.00129381       0.000680881   0.00319687 \n",
       " -0.00115037   -0.00300284   -7.732e-5         0.00410172    0.00238132 \n",
       "  0.000554419  -0.000909768  -0.00279593   …  -0.000997014  -0.000496633\n",
       " -0.00218353    0.000645277   0.00117344       0.0015868    -0.00239551 \n",
       "  0.00154285    0.00127741    0.000492089     -0.00253697   -0.00521994 \n",
       " -0.00261149    0.000335193   0.000630794      0.0022168    -0.00242068 \n",
       " -0.000915864  -0.0019138    -0.00327356      -0.000559444  -0.000324759\n",
       " -0.00043941    0.00264475    0.00118819   …  -0.00578577   -0.0011295  \n",
       " -0.00184489    0.00100037   -0.0016308       -0.000477931   0.00163865 \n",
       "  0.000841296   0.00341448    0.00523248      -0.00378153    0.00479495 \n",
       "  ⋮                                        ⋱                            \n",
       " -0.000365933  -0.00157805   -0.00277932      -0.00255397    0.00191028 \n",
       " -0.000868385  -0.000134582  -0.0021872        0.00549084   -0.00251429 \n",
       " -0.000910301  -0.00115041   -0.00150903   …   0.00088621   -0.00113217 \n",
       " -0.000226097   0.000316241  -0.00355226      -0.0012009    -0.00476341 \n",
       " -0.00121491   -0.000578748  -0.001343         4.74928e-5   -0.0026499  \n",
       " -0.000941419   0.00037403   -0.00110995      -0.00291524   -0.000246541\n",
       " -0.00242058    0.00129167   -0.000187944      0.000540498  -0.000260485\n",
       " -0.000299412   0.00120631   -0.000642721  …   0.0024032    -0.00522616 \n",
       "  0.000459112   0.00282756    0.00042047      -0.00511086   -0.00706329 \n",
       " -0.000535138  -0.000657989   0.00121799       0.00186927   -0.000924264\n",
       "  0.000392535   2.29852e-5   -0.00242951      -0.00142331   -0.000174197\n",
       " -0.00052126    0.000101605  -0.00262884       0.00156214    0.000921933"
      ]
     },
     "execution_count": 10,
     "metadata": {},
     "output_type": "execute_result"
    }
   ],
   "source": [
    "x = normalizeDataset!(x)"
   ]
  },
  {
   "cell_type": "code",
   "execution_count": 11,
   "metadata": {},
   "outputs": [
    {
     "name": "stdout",
     "output_type": "stream",
     "text": [
      "Generating decompositions ... done\n",
      "Generating SPN ...done\n"
     ]
    },
    {
     "data": {
      "text/plain": [
       "SumProductNetwork(size=2621)"
      ]
     },
     "execution_count": 11,
     "metadata": {},
     "output_type": "execute_result"
    }
   ],
   "source": [
    "spn = structureLearnPoon(x,3,3,nsum=5,nleaf=10,baseres=1)"
   ]
  }
 ],
 "metadata": {
  "kernelspec": {
   "display_name": "Julia 0.6.0",
   "language": "julia",
   "name": "julia-0.6"
  },
  "language_info": {
   "file_extension": ".jl",
   "mimetype": "application/julia",
   "name": "julia",
   "version": "0.6.0"
  }
 },
 "nbformat": 4,
 "nbformat_minor": 2
}
